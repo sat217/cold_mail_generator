```xml
<VSCode.Cell id="#VSC-afd3a3a8" language="python">
%pip install -qU langchain-groq langchain langchain-core

</VSCode.Cell>
<VSCode.Cell id="#VSC-d2040cee" language="python">
from langchain_groq import ChatGroq

llm = ChatGroq(
    api_key="your-groq-api-key-here",  # Set this from environment variable
    model="llama-3.3-70b-versatile",
    temperature=0,
    max_tokens=None,
    timeout=None,
    max_retries=2,
    # other params...
)
</VSCode.Cell>
<VSCode.Cell id="#VSC-0d4f5ede" language="python">
!pip install sentence-transformers chromadb pandas
</VSCode.Cell>
<VSCode.Cell id="#VSC-8410d4e4" language="python">
# Example of how to use the initialized llm object
prompt = "What is the capital of France?"
response = llm.invoke(prompt)
print(response)
</VSCode.Cell>
<VSCode.Cell id="#VSC-1924e1bc" language="python">
import os
from dotenv import load_dotenv

load_dotenv()  # Load API key from .env file
</VSCode.Cell>
<VSCode.Cell id="#VSC-fe3b2d1b" language="python">
from langchain_community.document_loaders import WebBaseLoader

loader = WebBaseLoader("https://jobs.nike.com/job/R-33460")
page_data = loader.load().pop().page_content
print(page_data)
</VSCode.Cell>
<VSCode.Cell id="#VSC-45293f8d" language="python">
%pip install -qU langchain-community
</VSCode.Cell>
<VSCode.Cell id="#VSC-3d924e6c" language="python">
from langchain_community.document_loaders import WebBaseLoader

loader = WebBaseLoader("https://jobs.nike.com/job/R-33460")
page_data = loader.load().pop().page_content
print(page_data)
</VSCode.Cell>
<VSCode.Cell id="#VSC-6d3cf678" language="python">
from langchain_core.prompts import PromptTemplate

prompt_extract = PromptTemplate.from_template(
        """
        ### SCRAPED TEXT FROM WEBSITE:
        {page_data}
        ### INSTRUCTION:
        The scraped text is from the career's page of a website.
        Your job is to extract the job postings and return them in JSON format containing the
        following keys: `role`, `experience`, `skills` and `description`.
        Only return the valid JSON.
        ### VALID JSON (NO PREAMBLE):
        """
)

chain_extract = prompt_extract | llm
res = chain_extract.invoke(input={'page_data':page_data})
type(res.content)
</VSCode.Cell>
<VSCode.Cell id="#VSC-16926098" language="python">
from langchain_core.output_parsers import JsonOutputParser

json_parser = JsonOutputParser()
json_res = json_parser.parse(res.content)
json_res
</VSCode.Cell>
<VSCode.Cell id="#VSC-f5fd4adc" language="python">
type(json_res)
</VSCode.Cell>
<VSCode.Cell id="#VSC-2dfcc407" language="python">
import pandas as pd

df = pd.read_csv("/content/my_portfolio.csv")
display(df)
</VSCode.Cell>
<VSCode.Cell id="#VSC-3b3d96c6" language="python">
%pip install -qU grpcio
</VSCode.Cell>
<VSCode.Cell id="#VSC-87279045" language="python">
import pandas as pd

try:
    df_portfolio = pd.read_csv('my_portfolio.csv')
    print("Structure of 'my_portfolio.csv':")
    display(df_portfolio.head())
    print("\nInfo about 'my_portfolio.csv':")
    display(df_portfolio.info())
except FileNotFoundError:
    print("Error: 'my_portfolio.csv' not found. Please make sure the file exists.")
</VSCode.Cell>
<VSCode.Cell id="#VSC-cd7d35ca" language="python">
skills_list = [item['skills'] for item in json_res if 'skills' in item and item['skills'] is not None]

if skills_list:
    links = collection.query(query_texts=skills_list, n_results=2).get('metadatas', [])
    print(links)
else:
    print("No skills extracted to query the collection.")
    links = [] # Initialize links as an empty list even if no skills are found
</VSCode.Cell>
<VSCode.Cell id="#VSC-435f8557" language="python">
job = json_res[0]
print(job['skills'])
</VSCode.Cell>
<VSCode.Cell id="#VSC-57295c4a" language="python">
skills_list_of_lists = [item['skills'] for item in json_res if 'skills' in item and item['skills'] is not None]
# Flatten the list of lists into a single list of skills
skills_list = [skill for sublist in skills_list_of_lists for skill in sublist]


if skills_list:
    links = collection.query(query_texts=skills_list, n_results=2).get('metadatas', [])
    print(links)
else:
    print("No skills extracted to query the collection.")
    links = [] # Initialize links as an empty list even if no skills are found
</VSCode.Cell>
<VSCode.Cell id="#VSC-b00b09ed" language="python">
import uuid
import chromadb
import pandas as pd

client = chromadb.Client()
collection = client.get_or_create_collection(name="portfolio")

if 'df' not in locals():
    try:
        df = pd.read_csv("my_portfolio.csv")
    except FileNotFoundError:
        print("Error: 'my_portfolio.csv' not found. Please make sure the file exists.")
        df = pd.DataFrame() # Create an empty DataFrame to avoid further errors

if not collection.count() and not df.empty:
    for _, row in df.iterrows():
        collection.add(documents=row["Techstack"],
                       metadatas={"links": row["Links"]},
                       ids=[str(uuid.uuid4())])
</VSCode.Cell>
<VSCode.Cell id="#VSC-0798ca15" language="python">
prompt_email = PromptTemplate.from_template(
        """
        ### JOB DESCRIPTION:
        {job_description}

        ### INSTRUCTION:
        You are Mohan, a business development executive at AtliQ. AtliQ is an AI & Software Consulting company dedicated to facilitating
        the seamless integration of business processes through automated tools.
        Over our experience, we have empowered numerous enterprises with tailored solutions, fostering scalability,
        process optimization, cost reduction, and heightened overall efficiency.
        Your job is to write a cold email to the client regarding the job mentioned above describing the capability of AtliQ
        in fulfilling their needs.
        Also add the most relevant ones from the following links to showcase Atliq's portfolio: {link_list}
        Remember you are Mohan, BDE at AtliQ.
        Do not provide a preamble.
        ### EMAIL (NO PREAMBLE):

        """
        )

chain_email = prompt_email | llm
res = chain_email.invoke({"job_description": str(job), "link_list": links})
print(res.content)
</VSCode.Cell>
```